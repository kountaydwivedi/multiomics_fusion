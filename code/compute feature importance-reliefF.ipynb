{
 "cells": [
  {
   "cell_type": "code",
   "execution_count": null,
   "id": "a8ce1f21-40ab-4e79-9162-0635e963b4fe",
   "metadata": {},
   "outputs": [],
   "source": [
    "# !pip install skrebate"
   ]
  },
  {
   "cell_type": "code",
   "execution_count": 1,
   "id": "af371033-72b7-438b-8ec0-c134c3b170c5",
   "metadata": {},
   "outputs": [],
   "source": [
    "import numpy as np\n",
    "import pandas as pd\n",
    "import matplotlib.pyplot as plt\n",
    "\n",
    "import gc\n",
    "import os\n",
    "import sys\n",
    "\n",
    "import warnings\n",
    "warnings.filterwarnings('ignore')"
   ]
  },
  {
   "cell_type": "code",
   "execution_count": 2,
   "id": "88aa82a9-b523-474a-9ecc-75c404d24a33",
   "metadata": {},
   "outputs": [],
   "source": [
    "from sklearn.svm import SVC\n",
    "from xgboost import XGBClassifier\n",
    "from sklearn.ensemble import RandomForestClassifier\n",
    "\n",
    "from sklearn.model_selection import StratifiedKFold, cross_val_predict\n",
    "from sklearn.metrics import accuracy_score, roc_auc_score, confusion_matrix"
   ]
  },
  {
   "cell_type": "code",
   "execution_count": 3,
   "id": "f7e81ec1-9cb5-47a9-9fed-ca9b8fbff974",
   "metadata": {},
   "outputs": [],
   "source": [
    "seed = 100\n",
    "random_state = seed"
   ]
  },
  {
   "cell_type": "code",
   "execution_count": 7,
   "id": "dfd181c2-962f-4438-9a44-6113a3079bab",
   "metadata": {},
   "outputs": [],
   "source": [
    "def feature_importance_reliefF(df):\n",
    "    X = df.drop(columns=['label'])\n",
    "    y = df['label']\n",
    "    genes = X.columns\n",
    "    X = X.to_numpy()\n",
    "    y = y.to_numpy()\n",
    "    \n",
    "    relief = ReliefF(n_neighbors=100, verbose=True)  # n_neighbors can be tuned\n",
    "    relief.fit(X, y)\n",
    "    \n",
    "    # Get feature scores\n",
    "    feature_scores = relief.feature_importances_\n",
    "    # Map scores to gene names\n",
    "    gene_importance = pd.DataFrame({\n",
    "        \"Gene\": genes,\n",
    "        \"Importance\": feature_scores\n",
    "    })\n",
    "    return gene_importance"
   ]
  },
  {
   "cell_type": "markdown",
   "id": "5c2e1edf-807e-48e3-81b6-c98cbd96324e",
   "metadata": {},
   "source": [
    "---"
   ]
  },
  {
   "cell_type": "code",
   "execution_count": 5,
   "id": "13915f53-15ef-4aee-b202-5b46588c2428",
   "metadata": {},
   "outputs": [],
   "source": [
    "rna_luad_xena = pd.read_csv(os.path.join('Z:\\multiomics based manuscript\\datasets\\gene_exp\\with_common_patients_processed', 'csv_rna_common_luad.csv'))\n",
    "rna_lusc_xena = pd.read_csv(os.path.join('Z:\\multiomics based manuscript\\datasets\\gene_exp\\with_common_patients_processed', 'csv_rna_common_lusc.csv'))\n",
    "\n",
    "rna_luad_xena['label'] = 1\n",
    "rna_lusc_xena['label'] = 0\n",
    "df_rna_xena = pd.concat([rna_luad_xena, rna_lusc_xena], axis=0)\n",
    "\n",
    "cnv_luad_xena = pd.read_csv(os.path.join('Z:\\multiomics based manuscript\\datasets\\cnv\\with_common_patients_processed', 'csv_cnv_common_luad.csv'))\n",
    "cnv_lusc_xena = pd.read_csv(os.path.join('Z:\\multiomics based manuscript\\datasets\\cnv\\with_common_patients_processed', 'csv_cnv_common_lusc.csv'))\n",
    "\n",
    "cnv_luad_xena['label'] = 1\n",
    "cnv_lusc_xena['label'] = 0\n",
    "df_cnv_xena = pd.concat([cnv_luad_xena, cnv_lusc_xena], axis=0)"
   ]
  },
  {
   "cell_type": "code",
   "execution_count": 6,
   "id": "a4894082-070f-48d6-938b-5a5f0b72e7db",
   "metadata": {},
   "outputs": [],
   "source": [
    "_df_rna_xena = df_rna_xena.sample(frac=1, replace=False, ignore_index=True, random_state = seed)\n",
    "_df_cnv_xena = df_cnv_xena.sample(frac=1, replace=False, ignore_index=True, random_state = seed)"
   ]
  },
  {
   "cell_type": "code",
   "execution_count": 8,
   "id": "39a1b219-d0f4-4edc-9785-fa8b7fe7d245",
   "metadata": {},
   "outputs": [
    {
     "name": "stdout",
     "output_type": "stream",
     "text": [
      "Created distance array in 40.55929899215698 seconds.\n",
      "Feature scoring under way ...\n",
      "Completed scoring in 3288.8320817947388 seconds.\n",
      "Done with RNA.\n",
      "Created distance array in 51.25565719604492 seconds.\n",
      "Feature scoring under way ...\n",
      "Completed scoring in 3987.9741406440735 seconds.\n",
      "Done with CNV.\n"
     ]
    }
   ],
   "source": [
    "'''\n",
    "Feature importance using ReliefF\n",
    "'''\n",
    "\n",
    "from skrebate import ReliefF\n",
    "\n",
    "reliefF_feature_importance_rna = feature_importance_reliefF(_df_rna_xena)\n",
    "print('Done with RNA.')\n",
    "reliefF_feature_importance_cnv = feature_importance_reliefF(_df_cnv_xena)\n",
    "print('Done with CNV.')"
   ]
  },
  {
   "cell_type": "code",
   "execution_count": 9,
   "id": "49c62f1e-0a0e-44e8-b0d4-cc54e8940b99",
   "metadata": {},
   "outputs": [],
   "source": [
    "IMP_GENES_PATH = 'Z:/multiomics based manuscript/results_for_xena_rna_cnv_only/important_genes'\n",
    "\n",
    "reliefF_feature_importance_rna = reliefF_feature_importance_rna.sort_values(by='Importance', ascending=False).reset_index(drop=True)\n",
    "reliefF_feature_importance_rna.to_csv(os.path.join(IMP_GENES_PATH, 'relieff_feature_importance_rna_df.csv'), index=False)\n",
    "\n",
    "reliefF_feature_importance_cnv = reliefF_feature_importance_cnv.sort_values(by='Importance', ascending=False).reset_index(drop=True)\n",
    "reliefF_feature_importance_cnv.to_csv(os.path.join(IMP_GENES_PATH, 'relieff_feature_importance_cnv_df.csv'), index=False)\n"
   ]
  },
  {
   "cell_type": "code",
   "execution_count": null,
   "id": "f57250a6-2d7a-45e2-bbfd-44b5e64f4125",
   "metadata": {},
   "outputs": [],
   "source": [
    "# plt.figure(figsize=(10, 50))\n",
    "# plt.barh(importance_df[\"Gene\"], importance_df[\"Importance\"], color=\"steelblue\")\n",
    "# plt.xlabel(\"Importance Score (Gain)\")\n",
    "# plt.ylabel(\"Gene\")\n",
    "# plt.title(\"Top 10 Important Genes Based on XGBoost\")\n",
    "# plt.gca().invert_yaxis()  # Highest importance at the top\n",
    "# plt.show()"
   ]
  },
  {
   "cell_type": "code",
   "execution_count": null,
   "id": "2c32d574-428d-49ff-aad0-19ce32e5114d",
   "metadata": {},
   "outputs": [],
   "source": []
  },
  {
   "cell_type": "code",
   "execution_count": null,
   "id": "08d474bc-4c5e-48d1-83d6-215f53319e97",
   "metadata": {},
   "outputs": [],
   "source": []
  },
  {
   "cell_type": "code",
   "execution_count": null,
   "id": "8c0c0c4d-aeec-40ce-9ee1-c80b4ca26a0d",
   "metadata": {},
   "outputs": [],
   "source": []
  },
  {
   "cell_type": "code",
   "execution_count": null,
   "id": "5331de98-9d1e-4fdd-9d92-51bb994ee96f",
   "metadata": {},
   "outputs": [],
   "source": []
  },
  {
   "cell_type": "code",
   "execution_count": null,
   "id": "cac47153-9b0d-4cfe-bce6-123473290de4",
   "metadata": {},
   "outputs": [],
   "source": []
  },
  {
   "cell_type": "code",
   "execution_count": null,
   "id": "81ae36f8-dd6c-4dcb-9d08-55b105c123cd",
   "metadata": {},
   "outputs": [],
   "source": []
  },
  {
   "cell_type": "code",
   "execution_count": null,
   "id": "2a140950-a2d7-416c-843f-8449c0fff2a4",
   "metadata": {},
   "outputs": [],
   "source": []
  },
  {
   "cell_type": "code",
   "execution_count": null,
   "id": "467fe78d-7aa7-4c8a-aba3-096486e74e6e",
   "metadata": {},
   "outputs": [],
   "source": []
  },
  {
   "cell_type": "code",
   "execution_count": null,
   "id": "5d51b6c3-34cd-4821-bf73-3f590c799ddb",
   "metadata": {},
   "outputs": [],
   "source": []
  },
  {
   "cell_type": "code",
   "execution_count": null,
   "id": "f9bd8ca1-2c59-4edb-8596-ff1d211ee640",
   "metadata": {},
   "outputs": [],
   "source": []
  },
  {
   "cell_type": "code",
   "execution_count": null,
   "id": "e77cbf5e-6186-4cae-ade0-d974d87bd2eb",
   "metadata": {},
   "outputs": [],
   "source": []
  }
 ],
 "metadata": {
  "kernelspec": {
   "display_name": "Python 3 (ipykernel)",
   "language": "python",
   "name": "python3"
  },
  "language_info": {
   "codemirror_mode": {
    "name": "ipython",
    "version": 3
   },
   "file_extension": ".py",
   "mimetype": "text/x-python",
   "name": "python",
   "nbconvert_exporter": "python",
   "pygments_lexer": "ipython3",
   "version": "3.12.3"
  }
 },
 "nbformat": 4,
 "nbformat_minor": 5
}
